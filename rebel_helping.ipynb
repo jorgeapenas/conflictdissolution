{
 "cells": [
  {
   "cell_type": "markdown",
   "metadata": {},
   "source": [
    "### Code for: \"Eusociality through conflict dissolution\" by Mauricio González-Forero and Jorge Peña\n",
    "\n",
    "Running the cells of this notebooks in order produces unannotated versions of Fig. S10."
   ]
  },
  {
   "cell_type": "code",
   "execution_count": 1,
   "metadata": {},
   "outputs": [],
   "source": [
    "using PyPlot,Colors,ColorSchemes"
   ]
  },
  {
   "cell_type": "code",
   "execution_count": 2,
   "metadata": {},
   "outputs": [
    {
     "data": {
      "text/plain": [
       "0.5"
      ]
     },
     "execution_count": 2,
     "metadata": {},
     "output_type": "execute_result"
    }
   ],
   "source": [
    "f1 = 30\n",
    "s1 = 0.2\n",
    "sM = 0.9\n",
    "f2 = 60\n",
    "s2 = 0.5\n",
    "p = 0.5"
   ]
  },
  {
   "cell_type": "code",
   "execution_count": 3,
   "metadata": {},
   "outputs": [
    {
     "data": {
      "text/plain": [
       "Π (generic function with 1 method)"
      ]
     },
     "execution_count": 3,
     "metadata": {},
     "output_type": "execute_result"
    }
   ],
   "source": [
    "h̄ = f1\n",
    "\n",
    "F1(l,f2,h,σ1,σ2) = σ1[l]*(f1-h)*s1\n",
    "F2(l,f2,h,σ1,σ2) = f2*σ2[l]*s2\n",
    "\n",
    "Π(l,f2,h,σ1,σ2) = F1(l,f2,h,σ1,σ2)+sM*F2(l,f2,h,σ1,σ2)"
   ]
  },
  {
   "cell_type": "code",
   "execution_count": 4,
   "metadata": {},
   "outputs": [
    {
     "data": {
      "text/plain": [
       "0"
      ]
     },
     "execution_count": 4,
     "metadata": {},
     "output_type": "execute_result"
    }
   ],
   "source": [
    "♀ = 1\n",
    "♂ = 2\n",
    "mr = 1\n",
    "rm = 2\n",
    "\n",
    "q = zeros((2,2))\n",
    "q[♀,mr] = 1/2\n",
    "q[♀,rm] = 1\n",
    "q[♂,mr] = 1/2\n",
    "q[♂,rm] = 0"
   ]
  },
  {
   "cell_type": "code",
   "execution_count": 5,
   "metadata": {},
   "outputs": [
    {
     "data": {
      "text/plain": [
       "v (generic function with 1 method)"
      ]
     },
     "execution_count": 5,
     "metadata": {},
     "output_type": "execute_result"
    }
   ],
   "source": [
    "function u(l)\n",
    "    if l == ♀\n",
    "        q[♀,rm]/(q[♀,rm]+q[♂,mr])\n",
    "    elseif l == ♂\n",
    "        q[♂,mr]/(q[♀,rm]+q[♂,mr])\n",
    "    end\n",
    "end\n",
    "\n",
    "v(l,f2,h,σ1,σ2) = (l == ♂)*1 + (l == ♀)*Π(♂,f2,h,σ1,σ2)/Π(♀,f2,h,σ1,σ2)"
   ]
  },
  {
   "cell_type": "code",
   "execution_count": 6,
   "metadata": {},
   "outputs": [
    {
     "data": {
      "text/plain": [
       "κpMB (generic function with 1 method)"
      ]
     },
     "execution_count": 6,
     "metadata": {},
     "output_type": "execute_result"
    }
   ],
   "source": [
    "function ιpOB(f2,h,σ1,σ2)\n",
    "    ι = 0\n",
    "    for l in (♀,♂)\n",
    "        ι += σ1[l]*u(l)*v(l,f2,h,σ1,σ2)\n",
    "    end\n",
    "    return ι\n",
    "end\n",
    "\n",
    "function κpOB(f2,h,σ1,σ2)\n",
    "    κ = 0\n",
    "    for l in (♀,♂)\n",
    "        for lp in (♀,♂)\n",
    "            for k in (rm,mr)\n",
    "                κ += σ1[l]*σ2[lp]*u(k)*q[l,k]*q[lp,k]*v(lp,f2,h,σ1,σ2)\n",
    "            end\n",
    "        end\n",
    "    end\n",
    "    return κ\n",
    "end\n",
    "\n",
    "function ιpMB(f2,h,σ1,σ2)\n",
    "    ι = 0\n",
    "    for l in (♀,♂)\n",
    "        ι += σ1[l]*q[l,mr]*v(l,f2,h,σ1,σ2)\n",
    "    end\n",
    "    ι *= u(mr)\n",
    "    return ι\n",
    "end\n",
    "function κpMB(f2,h,σ1,σ2)\n",
    "    κ = 0\n",
    "    for lp in (♀,♂)\n",
    "        κ += σ2[lp]*q[lp,mr]*v(lp,f2,h,σ1,σ2)\n",
    "    end\n",
    "    κ *= u(mr)\n",
    "    return κ\n",
    "end"
   ]
  },
  {
   "cell_type": "code",
   "execution_count": 7,
   "metadata": {},
   "outputs": [
    {
     "data": {
      "text/plain": [
       "BCMB (generic function with 1 method)"
      ]
     },
     "execution_count": 7,
     "metadata": {},
     "output_type": "execute_result"
    }
   ],
   "source": [
    "# critical benefit-cost ratios\n",
    "BCOB(f2,h,σ1,σ2) =  ιpOB(f2,h,σ1,σ2)/κpOB(f2,h,σ1,σ2)\n",
    "BCMB(f2,h,σ1,σ2) =  ιpMB(f2,h,σ1,σ2)/κpMB(f2,h,σ1,σ2)"
   ]
  },
  {
   "cell_type": "code",
   "execution_count": 8,
   "metadata": {},
   "outputs": [
    {
     "data": {
      "text/plain": [
       "diff_BC (generic function with 1 method)"
      ]
     },
     "execution_count": 8,
     "metadata": {},
     "output_type": "execute_result"
    }
   ],
   "source": [
    "function diff_BC(σ1,σ2)\n",
    "    σ1vec = (σ1,1-σ1)\n",
    "    σ2vec = (σ2,1-σ2)\n",
    "    return BCOB(f2,h̄*p,σ1vec,σ2vec)-BCMB(f2,h̄*p,σ1vec,σ2vec)\n",
    "end"
   ]
  },
  {
   "cell_type": "code",
   "execution_count": 9,
   "metadata": {},
   "outputs": [
    {
     "data": {
      "text/plain": [
       "meshgrid (generic function with 1 method)"
      ]
     },
     "execution_count": 9,
     "metadata": {},
     "output_type": "execute_result"
    }
   ],
   "source": [
    "colorname(c) = string(\"#\",hex(c))\n",
    "\n",
    "function meshgrid(x, y)\n",
    "    X = [i for i in x, j in 1:length(y)]\n",
    "    Y = [j for i in 1:length(x), j in y]\n",
    "    return X, Y\n",
    "end"
   ]
  },
  {
   "cell_type": "code",
   "execution_count": 10,
   "metadata": {},
   "outputs": [
    {
     "data": {
      "image/svg+xml": [
       "<?xml version=\"1.0\" encoding=\"UTF-8\"?>\n",
       "<!DOCTYPE svg PUBLIC \"-//W3C//DTD SVG 1.1//EN\"\n",
       " \"http://www.w3.org/Graphics/SVG/1.1/DTD/svg11.dtd\">\n",
       "<svg xmlns=\"http://www.w3.org/2000/svg\" version=\"1.1\"\n",
       "     width=\"180mm\" height=\"25mm\"\n",
       "     viewBox=\"0 0 10 1\" preserveAspectRatio=\"none\"\n",
       "     shape-rendering=\"crispEdges\" stroke=\"none\">\n",
       "<rect width=\".94\" height=\".96\" x=\"0\" y=\"0\" fill=\"#0173B2\" />\n",
       "<rect width=\".94\" height=\".96\" x=\"1\" y=\"0\" fill=\"#DE8F05\" />\n",
       "<rect width=\".94\" height=\".96\" x=\"2\" y=\"0\" fill=\"#029E73\" />\n",
       "<rect width=\".94\" height=\".96\" x=\"3\" y=\"0\" fill=\"#D55E00\" />\n",
       "<rect width=\".94\" height=\".96\" x=\"4\" y=\"0\" fill=\"#CC78BC\" />\n",
       "<rect width=\".94\" height=\".96\" x=\"5\" y=\"0\" fill=\"#CA9161\" />\n",
       "<rect width=\".94\" height=\".96\" x=\"6\" y=\"0\" fill=\"#FBAFE4\" />\n",
       "<rect width=\".94\" height=\".96\" x=\"7\" y=\"0\" fill=\"#949494\" />\n",
       "<rect width=\".94\" height=\".96\" x=\"8\" y=\"0\" fill=\"#ECE133\" />\n",
       "<rect width=\".94\" height=\".96\" x=\"9\" y=\"0\" fill=\"#56B4E9\" />\n",
       "</svg>"
      ],
      "text/plain": [
       "ColorScheme{StaticArrays.SArray{Tuple{10},RGB{Float64},1,10},String,String}(RGB{Float64}[RGB{Float64}(0.00392156862745098,0.45098039215686275,0.6980392156862745), RGB{Float64}(0.8705882352941177,0.5607843137254902,0.0196078431372549), RGB{Float64}(0.00784313725490196,0.6196078431372549,0.45098039215686275), RGB{Float64}(0.8352941176470589,0.3686274509803922,0.0), RGB{Float64}(0.8,0.47058823529411764,0.7372549019607844), RGB{Float64}(0.792156862745098,0.5686274509803921,0.3803921568627451), RGB{Float64}(0.984313725490196,0.6862745098039216,0.8941176470588236), RGB{Float64}(0.5803921568627451,0.5803921568627451,0.5803921568627451), RGB{Float64}(0.9254901960784314,0.8823529411764706,0.2), RGB{Float64}(0.33725490196078434,0.7058823529411765,0.9137254901960784)], \"seaborn\", \"sequential\")"
      ]
     },
     "execution_count": 10,
     "metadata": {},
     "output_type": "execute_result"
    }
   ],
   "source": [
    "ColorSchemes.seaborn_colorblind"
   ]
  },
  {
   "cell_type": "code",
   "execution_count": 11,
   "metadata": {},
   "outputs": [
    {
     "data": {
      "image/png": "[encoded data removed]",
      "text/plain": [
       "Figure(PyObject <Figure size 350x350 with 1 Axes>)"
      ]
     },
     "metadata": {},
     "output_type": "display_data"
    }
   ],
   "source": [
    "fig = PyPlot.figure(figsize=(3.5,3.5))\n",
    "\n",
    "σ1s = range(0.,stop=1.,length=100)\n",
    "σ2s = range(0.,stop=1.,length=100)\n",
    "\n",
    "Σ1, Σ2 = meshgrid(σ1s, σ2s)\n",
    "Δ = diff_BC.(Σ1,Σ2)\n",
    "\n",
    "PyPlot.contourf(Σ1,Σ2,Δ,levels=[-Inf,0],colors=colorname(ColorSchemes.seaborn_colorblind[4]),alpha=1.)\n",
    "\n",
    "PyPlot.savefig(\"FigS10A.pdf\",bbox_inches=\"tight\")"
   ]
  },
  {
   "cell_type": "code",
   "execution_count": 12,
   "metadata": {},
   "outputs": [
    {
     "data": {
      "image/png": "[encoded data removed]",
      "text/plain": [
       "Figure(PyObject <Figure size 350x350 with 1 Axes>)"
      ]
     },
     "metadata": {},
     "output_type": "display_data"
    }
   ],
   "source": [
    "fig = PyPlot.figure(figsize=(3.5,3.5))\n",
    "\n",
    "σ1s = range(0.5,stop=1.,length=100)\n",
    "σ2s = range(0.9,stop=1.,length=100)\n",
    "\n",
    "Σ1, Σ2 = meshgrid(σ1s, σ2s)\n",
    "Δ = diff_BC.(Σ1,Σ2)\n",
    "\n",
    "PyPlot.contour(Σ1,Σ2,Δ,levels=[0],colors=\"gray\",alpha=1.)\n",
    "PyPlot.contourf(Σ1,Σ2,Δ,levels=[-Inf,0],colors=colorname(ColorSchemes.seaborn_colorblind[4]),alpha=1.)\n",
    "\n",
    "PyPlot.savefig(\"FigS10B.pdf\",bbox_inches=\"tight\")"
   ]
  }
 ],
 "metadata": {
  "kernelspec": {
   "display_name": "Julia 1.4.2",
   "language": "julia",
   "name": "julia-1.4"
  },
  "language_info": {
   "file_extension": ".jl",
   "mimetype": "application/julia",
   "name": "julia",
   "version": "1.4.2"
  }
 },
 "nbformat": 4,
 "nbformat_minor": 4
}
